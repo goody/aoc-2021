{
 "cells": [
  {
   "cell_type": "markdown",
   "metadata": {},
   "source": [
    "# AoC 2021 - Day 2"
   ]
  },
  {
   "cell_type": "markdown",
   "metadata": {},
   "source": [
    "## Part \n",
    "\n",
    "It seems like the submarine can take a series of commands like forward 1, down 2, or up 3:\n",
    "\n",
    "* forward X increases the horizontal position by X units.\n",
    "* down X increases the depth by X units.\n",
    "* up X decreases the depth by X units.\n",
    "Note that since you're on a submarine, down and up affect your depth, and so they have the opposite result of what you might expect.\n",
    "\n",
    "Calculate the horizontal position and depth you would have after following the planned course. What do you get if you multiply your final horizontal position by your final depth?"
   ]
  },
  {
   "cell_type": "code",
   "execution_count": 1,
   "metadata": {},
   "outputs": [
    {
     "name": "stdout",
     "output_type": "stream",
     "text": [
      "1988 913\n",
      "1815044\n"
     ]
    }
   ],
   "source": [
    "import re\n",
    "with open('day2-input.txt', 'r') as datafile:\n",
    "  data = datafile.read().splitlines()\n",
    "  \n",
    "horizontal = 0\n",
    "forward = 0\n",
    "\n",
    "def getDistance(val):\n",
    "    results = [int(s) for s in re.findall(r'\\b\\d+\\b', val)]\n",
    "    return results[0]\n",
    "\n",
    "for i, val in enumerate(data):\n",
    "  if 'forward' in val:\n",
    "    forward += getDistance(val)\n",
    "  elif 'up' in val:\n",
    "    horizontal -= getDistance(val)\n",
    "  else:\n",
    "    horizontal += getDistance(val)\n",
    "\n",
    "print(forward, horizontal)\n",
    "print(forward * horizontal)\n"
   ]
  },
  {
   "cell_type": "markdown",
   "metadata": {},
   "source": [
    "## Part 2\n",
    "\n",
    "In addition to horizontal position and depth, you'll also need to track a third value, aim, which also starts at 0. The commands also mean something entirely different than you first thought:\n",
    "\n",
    "* down X increases your aim by X units.\n",
    "* up X decreases your aim by X units.\n",
    "* forward X does two things:\n",
    "  * It increases your horizontal position by X units.\n",
    "  * It increases your depth by your aim multiplied by X.\n",
    "\n",
    "Using this new interpretation of the commands, calculate the horizontal position and depth you would have after following the planned course. What do you get if you multiply your final horizontal position by your final depth?"
   ]
  },
  {
   "cell_type": "code",
   "execution_count": 27,
   "metadata": {},
   "outputs": [
    {
     "name": "stdout",
     "output_type": "stream",
     "text": [
      "1988 874891 913\n",
      "1739283308\n"
     ]
    }
   ],
   "source": [
    "import re\n",
    "with open('day2-input.txt', 'r') as datafile:\n",
    "  data = datafile.read().splitlines()\n",
    "  \n",
    "depth = 0\n",
    "horizontal = 0\n",
    "aim = 0\n",
    "\n",
    "def getDistance(val):\n",
    "    results = [int(s) for s in re.findall(r'\\b\\d+\\b', val)]\n",
    "    return results[0]\n",
    "\n",
    "for i, val in enumerate(data):\n",
    "  if 'forward' in val:\n",
    "    horizontal += getDistance(val)\n",
    "    if aim > 0:\n",
    "      depth += getDistance(val) * aim\n",
    "  elif 'up' in val:\n",
    "    aim -= getDistance(val)\n",
    "  else:\n",
    "    aim += getDistance(val)\n",
    "\n",
    "print(horizontal, depth, aim)\n",
    "print(horizontal * depth)\n"
   ]
  }
 ],
 "metadata": {
  "interpreter": {
   "hash": "aee8b7b246df8f9039afb4144a1f6fd8d2ca17a180786b69acc140d282b71a49"
  },
  "kernelspec": {
   "display_name": "Python 3.9.7 64-bit",
   "language": "python",
   "name": "python3"
  },
  "language_info": {
   "codemirror_mode": {
    "name": "ipython",
    "version": 3
   },
   "file_extension": ".py",
   "mimetype": "text/x-python",
   "name": "python",
   "nbconvert_exporter": "python",
   "pygments_lexer": "ipython3",
   "version": "3.9.7"
  },
  "orig_nbformat": 4
 },
 "nbformat": 4,
 "nbformat_minor": 2
}
