{
 "cells": [
  {
   "cell_type": "markdown",
   "metadata": {},
   "source": [
    "# Day 3: Binary Diagnostic "
   ]
  },
  {
   "cell_type": "markdown",
   "metadata": {},
   "source": [
    "## Part 1\n",
    "The submarine has been making some odd creaking noises, so you ask it to produce a diagnostic report just in case.\n",
    "\n",
    "The diagnostic report (your puzzle input) consists of a list of binary numbers which, when decoded properly, can tell you many useful things about the conditions of the submarine. The first parameter to check is the power consumption.\n",
    "\n",
    "You need to use the binary numbers in the diagnostic report to generate two new binary numbers (called the gamma rate and the epsilon rate). The power consumption can then be found by multiplying the gamma rate by the epsilon rate.\n",
    "\n",
    "Each bit in the gamma rate can be determined by finding the most common bit in the corresponding position of all numbers in the diagnostic report. For example, given the following diagnostic report:\n",
    "\n",
    "00100\n",
    "11110\n",
    "10110\n",
    "10111\n",
    "10101\n",
    "01111\n",
    "00111\n",
    "11100\n",
    "10000\n",
    "11001\n",
    "00010\n",
    "01010\n",
    "\n",
    "Considering only the first bit of each number, there are five 0 bits and seven 1 bits. Since the most common bit is 1, the first bit of the gamma rate is 1.\n",
    "\n",
    "The most common second bit of the numbers in the diagnostic report is 0, so the second bit of the gamma rate is 0.\n",
    "\n",
    "The most common value of the third, fourth, and fifth bits are 1, 1, and 0, respectively, and so the final three bits of the gamma rate are 110.\n",
    "\n",
    "So, the gamma rate is the binary number 10110, or 22 in decimal.\n",
    "\n",
    "The epsilon rate is calculated in a similar way; rather than use the most common bit, the least common bit from each position is used. So, the epsilon rate is 01001, or 9 in decimal. Multiplying the gamma rate (22) by the epsilon rate (9) produces the power consumption, 198.\n",
    "\n",
    "Use the binary numbers in your diagnostic report to calculate the gamma rate and epsilon rate, then multiply them together. What is the power consumption of the submarine? (Be sure to represent your answer in decimal, not binary.)\n",
    "\n"
   ]
  },
  {
   "cell_type": "code",
   "execution_count": 47,
   "metadata": {},
   "outputs": [
    {
     "name": "stdout",
     "output_type": "stream",
     "text": [
      "2028 2067\n",
      "4191876\n"
     ]
    }
   ],
   "source": [
    "with open('day3-input.txt', 'r') as datafile:\n",
    "  data = datafile.read().splitlines()\n",
    "\n",
    "def getGamma(dataset):\n",
    "  majority = len(data)/2 + 1\n",
    "  itemLength = len(data[0])\n",
    "  gamma = ''\n",
    "  for i in range(itemLength):\n",
    "    thisGamma = 0\n",
    "    for x in dataset:\n",
    "      thisGamma += int(x[i])\n",
    "    gamma += '1' if thisGamma >= majority else '0'\n",
    "  return gamma\n",
    "\n",
    "def getEpsilon(gammastring):\n",
    "  epsilon = ''\n",
    "  for x in str(gammastring):\n",
    "    epsilon += '1' if x == '0' else '0'\n",
    "  return epsilon\n",
    "\n",
    "def toDecimal(binaryString):\n",
    "  return int(str(binaryString), 2)\n",
    "\n",
    "gamma = getGamma(data)\n",
    "epsilon = getEpsilon(gamma)\n",
    "print(toDecimal(gamma), toDecimal(epsilon))\n",
    "print(toDecimal(gamma) * toDecimal(epsilon))\n"
   ]
  }
 ],
 "metadata": {
  "interpreter": {
   "hash": "aee8b7b246df8f9039afb4144a1f6fd8d2ca17a180786b69acc140d282b71a49"
  },
  "kernelspec": {
   "display_name": "Python 3.9.7 64-bit",
   "language": "python",
   "name": "python3"
  },
  "language_info": {
   "codemirror_mode": {
    "name": "ipython",
    "version": 3
   },
   "file_extension": ".py",
   "mimetype": "text/x-python",
   "name": "python",
   "nbconvert_exporter": "python",
   "pygments_lexer": "ipython3",
   "version": "3.9.7"
  },
  "orig_nbformat": 4
 },
 "nbformat": 4,
 "nbformat_minor": 2
}
