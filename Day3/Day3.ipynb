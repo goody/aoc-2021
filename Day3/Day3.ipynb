{
 "cells": [
  {
   "cell_type": "markdown",
   "metadata": {},
   "source": [
    "# Day 3: Binary Diagnostic "
   ]
  },
  {
   "cell_type": "markdown",
   "metadata": {},
   "source": [
    "## Part 1\n",
    "Use the binary numbers in your diagnostic report to calculate the gamma rate and epsilon rate, then multiply them together. What is the power consumption of the submarine? (Be sure to represent your answer in decimal, not binary.)"
   ]
  },
  {
   "cell_type": "code",
   "execution_count": 3,
   "metadata": {},
   "outputs": [
    {
     "name": "stdout",
     "output_type": "stream",
     "text": [
      "2028 2067\n",
      "4191876\n"
     ]
    }
   ],
   "source": [
    "with open('day3-input.txt', 'r') as datafile:\n",
    "  data = datafile.read().splitlines()\n",
    "\n",
    "def getGamma(dataset):\n",
    "  majority = len(dataset)/2 + 1\n",
    "  itemLength = len(dataset[0])\n",
    "  gamma = ''\n",
    "  for i in range(itemLength):\n",
    "    thisGamma = 0\n",
    "    for x in dataset:\n",
    "      thisGamma += int(x[i])\n",
    "    gamma += '1' if thisGamma >= majority else '0'\n",
    "  return gamma\n",
    "\n",
    "def getEpsilon(gammastring):\n",
    "  epsilon = ''\n",
    "  for x in str(gammastring):\n",
    "    epsilon += '1' if x == '0' else '0'\n",
    "  return epsilon\n",
    "\n",
    "def toDecimal(binaryString):\n",
    "  return int(str(binaryString), 2)\n",
    "\n",
    "gamma = getGamma(data)\n",
    "epsilon = getEpsilon(gamma)\n",
    "print(toDecimal(gamma), toDecimal(epsilon))\n",
    "print(toDecimal(gamma) * toDecimal(epsilon))\n"
   ]
  },
  {
   "cell_type": "markdown",
   "metadata": {},
   "source": [
    "## Part 2\n",
    "Use the binary numbers in your diagnostic report to calculate the oxygen generator rating and CO2 scrubber rating, then multiply them together. What is the life support rating of the submarine? (Be sure to represent your answer in decimal, not binary.)\n",
    "\n",
    "- find majority for o2 or minority for co2; for ties: 1 wins on o2, 0 wins on co2\n",
    "- repeat until there's one\n",
    "- stop loop when there's one\n",
    "\n",
    "-- live streamer eg BR where all on cam, game masters can drop surpises like \n",
    "\n",
    "get all that [0] zeroes\n",
    "\n",
    "-pass list\n",
    "- get sublist of majority based on index/len of list item...or with tie take o2 or co2"
   ]
  },
  {
   "cell_type": "code",
   "execution_count": 124,
   "metadata": {},
   "outputs": [
    {
     "name": "stdout",
     "output_type": "stream",
     "text": [
      "majority:  501.0  of  1000\n",
      "isO2 1 bitcount:  487 index:  0\n",
      "winning bit =====>  0\n",
      "majority:  257.5  of  513\n",
      "isO2 1 bitcount:  257 index:  1\n",
      "winning bit =====>  1\n",
      "majority:  129.5  of  257\n",
      "isO2 1 bitcount:  125 index:  2\n",
      "winning bit =====>  0\n",
      "majority:  67.0  of  132\n",
      "isO2 1 bitcount:  69 index:  3\n",
      "winning bit =====>  1\n",
      "majority:  35.5  of  69\n",
      "isO2 1 bitcount:  25 index:  4\n",
      "winning bit =====>  0\n",
      "majority:  23.0  of  44\n",
      "isO2 1 bitcount:  22 index:  5\n",
      "winning bit =====>  1\n",
      "majority:  12.0  of  22\n",
      "isO2 1 bitcount:  11 index:  6\n",
      "winning bit =====>  1\n",
      "majority:  6.5  of  11\n",
      "isO2 1 bitcount:  5 index:  7\n",
      "winning bit =====>  0\n",
      "majority:  4.0  of  6\n",
      "isO2 1 bitcount:  3 index:  8\n",
      "winning bit =====>  1\n",
      "majority:  2.5  of  3\n",
      "isO2 1 bitcount:  2 index:  9\n",
      "winning bit =====>  1\n",
      "majority:  2.0  of  2\n",
      "isO2 1 bitcount:  2 index:  10\n",
      "winning bit =====>  1\n",
      "majority:  2.0  of  2\n",
      "isO2 1 bitcount:  1 index:  11\n",
      "winning bit =====>  1\n",
      "smaller than 1 ['010101101111'] found @ index:  11\n",
      "majority:  501.0  of  1000\n",
      "isO2 0 bitcount:  487 index:  0\n",
      "winning bit =====>  1\n",
      "majority:  244.5  of  487\n",
      "isO2 0 bitcount:  262 index:  1\n",
      "winning bit =====>  0\n",
      "majority:  113.5  of  225\n",
      "isO2 0 bitcount:  113 index:  2\n",
      "winning bit =====>  0\n",
      "majority:  57.0  of  112\n",
      "isO2 0 bitcount:  54 index:  3\n",
      "winning bit =====>  1\n",
      "majority:  28.0  of  54\n",
      "isO2 0 bitcount:  23 index:  4\n",
      "winning bit =====>  1\n",
      "majority:  12.5  of  23\n",
      "isO2 0 bitcount:  12 index:  5\n",
      "winning bit =====>  0\n",
      "majority:  6.5  of  11\n",
      "isO2 0 bitcount:  6 index:  6\n",
      "winning bit =====>  0\n",
      "majority:  3.5  of  5\n",
      "isO2 0 bitcount:  2 index:  7\n",
      "winning bit =====>  1\n",
      "majority:  2.0  of  2\n",
      "isO2 0 bitcount:  1 index:  8\n",
      "winning bit =====>  0\n",
      "smaller than 1 ['100110010111'] found @ index:  8\n",
      "1391\n",
      "2455\n",
      "3414905\n"
     ]
    }
   ],
   "source": [
    "with open('day3-input.txt', 'r') as datafile:\n",
    "  data = datafile.read().splitlines()\n",
    "\"\"\" data = [ '00100','11110','10110','10111','10101','01111','00111','11100','10000','11001','00010','01010'] \"\"\"\n",
    "def getRating(data, index, isO2):\n",
    "  majority = len(data)/2 + 1\n",
    "  print('majority: ', majority, ' of ', len(data))\n",
    "  bitCount = 0\n",
    "  winningBit = 0\n",
    "  for v in data: \n",
    "    bitCount += int(v[index])\n",
    "  print('isO2',isO2,'bitcount: ', bitCount, 'index: ', index)\n",
    "  if isO2:\n",
    "    winningBit = '1' if bitCount >= len(data) - bitCount else '0'\n",
    "  else:\n",
    "    winningBit = '0' if bitCount >= len(data) - bitCount else '1'\n",
    "  print('winning bit =====> ', winningBit)\n",
    "  reducedList = list(reduceRatings(data, index, int(winningBit), len(data[0])-1))\n",
    "  if(len(reducedList) > 1):\n",
    "    return getRating(reducedList,index+1,isO2)\n",
    "  else:\n",
    "    print('smaller than 1', reducedList, 'found @ index: ', index)\n",
    "    return reducedList\n",
    "\n",
    "def reduceRatings(data, index, bit, maxIndex):\n",
    "  index = index if index >= maxIndex else index\n",
    "  return filter(lambda value: int(value[index]) == bit, data)\n",
    "\n",
    "def toDecimal(binaryString):\n",
    "  return int(str(binaryString), 2)\n",
    "\n",
    "o2GeneratorRating = getRating(data,0,1)\n",
    "co2ScrubberRating = getRating(data,0,0)\n",
    "\n",
    "print(toDecimal(o2GeneratorRating[0]))\n",
    "print(toDecimal(co2ScrubberRating[0]))\n",
    "\n",
    "print(toDecimal(o2GeneratorRating[0]) * toDecimal(co2ScrubberRating[0]))"
   ]
  }
 ],
 "metadata": {
  "interpreter": {
   "hash": "aee8b7b246df8f9039afb4144a1f6fd8d2ca17a180786b69acc140d282b71a49"
  },
  "kernelspec": {
   "display_name": "Python 3.9.7 64-bit",
   "language": "python",
   "name": "python3"
  },
  "language_info": {
   "codemirror_mode": {
    "name": "ipython",
    "version": 3
   },
   "file_extension": ".py",
   "mimetype": "text/x-python",
   "name": "python",
   "nbconvert_exporter": "python",
   "pygments_lexer": "ipython3",
   "version": "3.9.7"
  },
  "orig_nbformat": 4
 },
 "nbformat": 4,
 "nbformat_minor": 2
}
